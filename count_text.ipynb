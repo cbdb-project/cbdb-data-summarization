{
 "cells": [
  {
   "cell_type": "code",
   "execution_count": 1,
   "metadata": {},
   "outputs": [
    {
     "name": "stderr",
     "output_type": "stream",
     "text": [
      "d:\\anaconda\\lib\\site-packages\\urllib3\\connectionpool.py:1045: InsecureRequestWarning: Unverified HTTPS request is being made to host 'hf-mirror.com'. Adding certificate verification is strongly advised. See: https://urllib3.readthedocs.io/en/1.26.x/advanced-usage.html#ssl-warnings\n",
      "  warnings.warn(\n",
      "d:\\anaconda\\lib\\site-packages\\urllib3\\connectionpool.py:1045: InsecureRequestWarning: Unverified HTTPS request is being made to host 'cdn-lfs-us-1.hf-mirror.com'. Adding certificate verification is strongly advised. See: https://urllib3.readthedocs.io/en/1.26.x/advanced-usage.html#ssl-warnings\n",
      "  warnings.warn(\n"
     ]
    }
   ],
   "source": [
    "# Download CBDB sqlite\n",
    "# !git clone https://github.com/cbdb-project/cbdb_sqlite.git\n",
    "import requests\n",
    "import os\n",
    "# url = \"https://hf-mirror.com/datasets/cbdb/cbdb-sqlite/resolve/main/latest.7z?download=true\"\n",
    "url = \"https://huggingface.co/datasets/cbdb/cbdb-sqlite/resolve/main/latest.7z?download=true\"\n",
    "r = requests.get(url, verify=False)\n",
    "os.makedirs(\"./cbdb_sqlite\", exist_ok=True)\n",
    "with open(\"./cbdb_sqlite/latest.7z\", \"wb\") as f:\n",
    "    f.write(r.content)"
   ]
  },
  {
   "cell_type": "code",
   "execution_count": 3,
   "metadata": {
    "ExecuteTime": {
     "end_time": "2024-10-25T03:54:44.323001Z",
     "start_time": "2024-10-25T03:54:44.275286Z"
    }
   },
   "outputs": [
    {
     "name": "stdout",
     "output_type": "stream",
     "text": [
      "latest.db\n"
     ]
    },
    {
     "ename": "PermissionError",
     "evalue": "[WinError 32] 另一个程序正在使用此文件，进程无法访问。: 'latest.db'",
     "output_type": "error",
     "traceback": [
      "\u001B[1;31m---------------------------------------------------------------------------\u001B[0m",
      "\u001B[1;31mPermissionError\u001B[0m                           Traceback (most recent call last)",
      "Cell \u001B[1;32mIn[3], line 8\u001B[0m\n\u001B[0;32m      6\u001B[0m \u001B[38;5;28mprint\u001B[39m(latest_db)\n\u001B[0;32m      7\u001B[0m \u001B[38;5;28;01mif\u001B[39;00m os\u001B[38;5;241m.\u001B[39mpath\u001B[38;5;241m.\u001B[39misfile(latest_db):\n\u001B[1;32m----> 8\u001B[0m     \u001B[43mos\u001B[49m\u001B[38;5;241;43m.\u001B[39;49m\u001B[43mremove\u001B[49m\u001B[43m(\u001B[49m\u001B[43mlatest_db\u001B[49m\u001B[43m)\u001B[49m\n",
      "\u001B[1;31mPermissionError\u001B[0m: [WinError 32] 另一个程序正在使用此文件，进程无法访问。: 'latest.db'"
     ]
    }
   ],
   "source": [
    "# import glob\n",
    "import os\n",
    "\n",
    "latest_file = \"./cbdb_sqlite/latest.7z\"\n",
    "latest_db = latest_file.split(\"/\")[2].split(\".\")[0] + \".db\"\n",
    "print(latest_db)\n",
    "if os.path.isfile(latest_db):\n",
    "    os.remove(latest_db)"
   ]
  },
  {
   "cell_type": "code",
   "execution_count": 4,
   "metadata": {
    "ExecuteTime": {
     "end_time": "2024-10-25T03:55:56.567998Z",
     "start_time": "2024-10-25T03:55:36.422502Z"
    }
   },
   "outputs": [
    {
     "name": "stdout",
     "output_type": "stream",
     "text": [
      "解压完成！\n"
     ]
    }
   ],
   "source": [
    "# # Explode latest database file\n",
    "# !pip install pyunpack\n",
    "# !pip install patool\n",
    "# from pyunpack import Archive\n",
    "# Archive(latest_file).extractall(\".\")\n",
    "\n",
    "import py7zr\n",
    "\n",
    "# 指定压缩文件和目标目录\n",
    "archive = './cbdb_sqlite/latest.7z'\n",
    "output_dir = ''\n",
    "\n",
    "# 解压文件\n",
    "with py7zr.SevenZipFile(archive, 'r') as archive:\n",
    "    archive.extractall(output_dir)\n",
    "\n",
    "print(\"解压完成！\")\n",
    "\n"
   ]
  },
  {
   "cell_type": "code",
   "execution_count": 5,
   "metadata": {
    "ExecuteTime": {
     "end_time": "2024-10-25T03:56:09.751387Z",
     "start_time": "2024-10-25T03:56:09.176844Z"
    }
   },
   "outputs": [],
   "source": [
    "# Create connection to database\n",
    "import sqlite3\n",
    "import pandas as pd\n",
    "global CONN\n",
    "database_file = os.path.basename(latest_file).split(\".\")[0]+\".db\"\n",
    "CONN = sqlite3.connect(database_file)"
   ]
  },
  {
   "cell_type": "code",
   "execution_count": 6,
   "metadata": {
    "ExecuteTime": {
     "end_time": "2024-10-25T03:56:20.255169Z",
     "start_time": "2024-10-25T03:56:18.640916Z"
    }
   },
   "outputs": [
    {
     "data": {
      "text/plain": "    c_dy c_dynasty_chn  count\n0      0            未詳    117\n1      1            漢前      5\n2      2            秦漢     18\n3      3            三國      3\n4      4           南北朝      9\n..   ...           ...    ...\n69    76            西燕      2\n70    77             周     13\n71    78            西夏      3\n72    81        鄭（王世充）      1\n73    84            朝鮮      1\n\n[74 rows x 3 columns]",
      "text/html": "<div>\n<style scoped>\n    .dataframe tbody tr th:only-of-type {\n        vertical-align: middle;\n    }\n\n    .dataframe tbody tr th {\n        vertical-align: top;\n    }\n\n    .dataframe thead th {\n        text-align: right;\n    }\n</style>\n<table border=\"1\" class=\"dataframe\">\n  <thead>\n    <tr style=\"text-align: right;\">\n      <th></th>\n      <th>c_dy</th>\n      <th>c_dynasty_chn</th>\n      <th>count</th>\n    </tr>\n  </thead>\n  <tbody>\n    <tr>\n      <th>0</th>\n      <td>0</td>\n      <td>未詳</td>\n      <td>117</td>\n    </tr>\n    <tr>\n      <th>1</th>\n      <td>1</td>\n      <td>漢前</td>\n      <td>5</td>\n    </tr>\n    <tr>\n      <th>2</th>\n      <td>2</td>\n      <td>秦漢</td>\n      <td>18</td>\n    </tr>\n    <tr>\n      <th>3</th>\n      <td>3</td>\n      <td>三國</td>\n      <td>3</td>\n    </tr>\n    <tr>\n      <th>4</th>\n      <td>4</td>\n      <td>南北朝</td>\n      <td>9</td>\n    </tr>\n    <tr>\n      <th>...</th>\n      <td>...</td>\n      <td>...</td>\n      <td>...</td>\n    </tr>\n    <tr>\n      <th>69</th>\n      <td>76</td>\n      <td>西燕</td>\n      <td>2</td>\n    </tr>\n    <tr>\n      <th>70</th>\n      <td>77</td>\n      <td>周</td>\n      <td>13</td>\n    </tr>\n    <tr>\n      <th>71</th>\n      <td>78</td>\n      <td>西夏</td>\n      <td>3</td>\n    </tr>\n    <tr>\n      <th>72</th>\n      <td>81</td>\n      <td>鄭（王世充）</td>\n      <td>1</td>\n    </tr>\n    <tr>\n      <th>73</th>\n      <td>84</td>\n      <td>朝鮮</td>\n      <td>1</td>\n    </tr>\n  </tbody>\n</table>\n<p>74 rows × 3 columns</p>\n</div>"
     },
     "execution_count": 6,
     "metadata": {},
     "output_type": "execute_result"
    }
   ],
   "source": [
    "sql_str = \"SELECT bm.c_dy, d.c_dynasty_chn, count(distinct m.c_textid) as count\\\n",
    "        FROM biog_main bm\\\n",
    "        JOIN (\\\n",
    "            SELECT bs.c_personid, bs.c_textid\\\n",
    "            FROM biog_source_data bs\\\n",
    "        ) m ON bm.c_personid = m.c_personid\\\n",
    "        JOIN dynasties d ON bm.c_dy = d.c_dy\\\n",
    "        GROUP BY bm.c_dy;\"\n",
    "dycount_df = pd.read_sql_query(sql_str, CONN).drop_duplicates().dropna()\n",
    "dycount_df"
   ]
  },
  {
   "cell_type": "code",
   "execution_count": 7,
   "metadata": {
    "ExecuteTime": {
     "end_time": "2024-10-25T03:56:26.225448Z",
     "start_time": "2024-10-25T03:56:25.101558Z"
    }
   },
   "outputs": [
    {
     "data": {
      "text/plain": "    c_dy                c_dynasty c_dynasty_chn  \\\n0      0                  unknown            未詳   \n1      1                  Pre-Han            漢前   \n2      2                   QinHan            秦漢   \n3      3                   SanGuo            三國   \n4      4              NanBei Chao           南北朝   \n..   ...                      ...           ...   \n69    76  Western Yan (16 states)            西燕   \n70    77         Zhou (Wu Zetian)             周   \n71    78              Western Xia            西夏   \n72    81    Zheng (Wang Shichong)        鄭（王世充）   \n73    84                   Choson            朝鮮   \n\n                                              bookids  count  \n0   4626,62087,18417,65079,38457,4591,27157,14561,...    117  \n1                           66734,9601,5908,6134,7596      5  \n2   3291,38772,3689,38733,66734,2776,38742,2493,96...     18  \n3                                     9602,66734,9601      3  \n4   66734,2067,9601,32033,5906,32039,32038,38295,4801      9  \n..                                                ...    ...  \n69                                        66734,24309      2  \n70  6267,3689,66734,40303,24309,38296,4578,32033,3...     13  \n71                                   17138,7596,66734      3  \n72                                              32038      1  \n73                                              59365      1  \n\n[74 rows x 5 columns]",
      "text/html": "<div>\n<style scoped>\n    .dataframe tbody tr th:only-of-type {\n        vertical-align: middle;\n    }\n\n    .dataframe tbody tr th {\n        vertical-align: top;\n    }\n\n    .dataframe thead th {\n        text-align: right;\n    }\n</style>\n<table border=\"1\" class=\"dataframe\">\n  <thead>\n    <tr style=\"text-align: right;\">\n      <th></th>\n      <th>c_dy</th>\n      <th>c_dynasty</th>\n      <th>c_dynasty_chn</th>\n      <th>bookids</th>\n      <th>count</th>\n    </tr>\n  </thead>\n  <tbody>\n    <tr>\n      <th>0</th>\n      <td>0</td>\n      <td>unknown</td>\n      <td>未詳</td>\n      <td>4626,62087,18417,65079,38457,4591,27157,14561,...</td>\n      <td>117</td>\n    </tr>\n    <tr>\n      <th>1</th>\n      <td>1</td>\n      <td>Pre-Han</td>\n      <td>漢前</td>\n      <td>66734,9601,5908,6134,7596</td>\n      <td>5</td>\n    </tr>\n    <tr>\n      <th>2</th>\n      <td>2</td>\n      <td>QinHan</td>\n      <td>秦漢</td>\n      <td>3291,38772,3689,38733,66734,2776,38742,2493,96...</td>\n      <td>18</td>\n    </tr>\n    <tr>\n      <th>3</th>\n      <td>3</td>\n      <td>SanGuo</td>\n      <td>三國</td>\n      <td>9602,66734,9601</td>\n      <td>3</td>\n    </tr>\n    <tr>\n      <th>4</th>\n      <td>4</td>\n      <td>NanBei Chao</td>\n      <td>南北朝</td>\n      <td>66734,2067,9601,32033,5906,32039,32038,38295,4801</td>\n      <td>9</td>\n    </tr>\n    <tr>\n      <th>...</th>\n      <td>...</td>\n      <td>...</td>\n      <td>...</td>\n      <td>...</td>\n      <td>...</td>\n    </tr>\n    <tr>\n      <th>69</th>\n      <td>76</td>\n      <td>Western Yan (16 states)</td>\n      <td>西燕</td>\n      <td>66734,24309</td>\n      <td>2</td>\n    </tr>\n    <tr>\n      <th>70</th>\n      <td>77</td>\n      <td>Zhou (Wu Zetian)</td>\n      <td>周</td>\n      <td>6267,3689,66734,40303,24309,38296,4578,32033,3...</td>\n      <td>13</td>\n    </tr>\n    <tr>\n      <th>71</th>\n      <td>78</td>\n      <td>Western Xia</td>\n      <td>西夏</td>\n      <td>17138,7596,66734</td>\n      <td>3</td>\n    </tr>\n    <tr>\n      <th>72</th>\n      <td>81</td>\n      <td>Zheng (Wang Shichong)</td>\n      <td>鄭（王世充）</td>\n      <td>32038</td>\n      <td>1</td>\n    </tr>\n    <tr>\n      <th>73</th>\n      <td>84</td>\n      <td>Choson</td>\n      <td>朝鮮</td>\n      <td>59365</td>\n      <td>1</td>\n    </tr>\n  </tbody>\n</table>\n<p>74 rows × 5 columns</p>\n</div>"
     },
     "execution_count": 7,
     "metadata": {},
     "output_type": "execute_result"
    }
   ],
   "source": [
    "sql_str=\"select bm.c_dy, d.c_dynasty, d.c_dynasty_chn, group_concat(bs.c_textid)as bookids\\\n",
    "        from biog_main bm\\\n",
    "        join biog_source_data bs on bm.c_personid = bs.c_personid\\\n",
    "        join dynasties d on bm.c_dy = d.c_dy\\\n",
    "        group by bm.c_dy;\"\n",
    "dycount_df = pd.read_sql_query(sql_str, CONN).drop_duplicates().dropna()\n",
    "dycount_df['bookids'] = dycount_df['bookids'].apply(lambda x: ','.join(set(x.split(','))) if isinstance(x, str) else x)  \n",
    "dycount_df['count'] = dycount_df['bookids'].apply(lambda x: len(x.split(',')) if isinstance(x, str) else 0)  \n",
    "dycount_df"
   ]
  },
  {
   "cell_type": "code",
   "execution_count": 8,
   "metadata": {
    "ExecuteTime": {
     "end_time": "2024-10-25T03:56:29.224105Z",
     "start_time": "2024-10-25T03:56:29.200972Z"
    }
   },
   "outputs": [
    {
     "data": {
      "text/plain": "    c_dy c_dynasty c_dynasty_chn  \\\n6      6      Tang             唐   \n15    15      Song             宋   \n16    16      Liao             遼   \n17    17       Jin             金   \n18    18      Yuan             元   \n19    19      Ming             明   \n20    20      Qing             清   \n\n                                              bookids  count  \n6   4626,4394,24670,16881,38457,62087,5774,38863,8...    124  \n15  3358,40312,4591,56237,27157,2308,2224,4707,250...    384  \n16  6267,66734,40303,24309,9601,32033,17138,8947,7596      9  \n17  38333,5725,38533,4626,40334,9601,38397,4802,38...     41  \n18  21611,4626,4418,32058,38300,38302,38397,62087,...    162  \n19  58118,13311,32049,4591,6931,4707,27143,46317,2...    499  \n20  6329,4626,38578,20177,27046,38397,27925,62087,...    222  ",
      "text/html": "<div>\n<style scoped>\n    .dataframe tbody tr th:only-of-type {\n        vertical-align: middle;\n    }\n\n    .dataframe tbody tr th {\n        vertical-align: top;\n    }\n\n    .dataframe thead th {\n        text-align: right;\n    }\n</style>\n<table border=\"1\" class=\"dataframe\">\n  <thead>\n    <tr style=\"text-align: right;\">\n      <th></th>\n      <th>c_dy</th>\n      <th>c_dynasty</th>\n      <th>c_dynasty_chn</th>\n      <th>bookids</th>\n      <th>count</th>\n    </tr>\n  </thead>\n  <tbody>\n    <tr>\n      <th>6</th>\n      <td>6</td>\n      <td>Tang</td>\n      <td>唐</td>\n      <td>4626,4394,24670,16881,38457,62087,5774,38863,8...</td>\n      <td>124</td>\n    </tr>\n    <tr>\n      <th>15</th>\n      <td>15</td>\n      <td>Song</td>\n      <td>宋</td>\n      <td>3358,40312,4591,56237,27157,2308,2224,4707,250...</td>\n      <td>384</td>\n    </tr>\n    <tr>\n      <th>16</th>\n      <td>16</td>\n      <td>Liao</td>\n      <td>遼</td>\n      <td>6267,66734,40303,24309,9601,32033,17138,8947,7596</td>\n      <td>9</td>\n    </tr>\n    <tr>\n      <th>17</th>\n      <td>17</td>\n      <td>Jin</td>\n      <td>金</td>\n      <td>38333,5725,38533,4626,40334,9601,38397,4802,38...</td>\n      <td>41</td>\n    </tr>\n    <tr>\n      <th>18</th>\n      <td>18</td>\n      <td>Yuan</td>\n      <td>元</td>\n      <td>21611,4626,4418,32058,38300,38302,38397,62087,...</td>\n      <td>162</td>\n    </tr>\n    <tr>\n      <th>19</th>\n      <td>19</td>\n      <td>Ming</td>\n      <td>明</td>\n      <td>58118,13311,32049,4591,6931,4707,27143,46317,2...</td>\n      <td>499</td>\n    </tr>\n    <tr>\n      <th>20</th>\n      <td>20</td>\n      <td>Qing</td>\n      <td>清</td>\n      <td>6329,4626,38578,20177,27046,38397,27925,62087,...</td>\n      <td>222</td>\n    </tr>\n  </tbody>\n</table>\n</div>"
     },
     "execution_count": 8,
     "metadata": {},
     "output_type": "execute_result"
    }
   ],
   "source": [
    "dycount_df_filtered = dycount_df[dycount_df[\"c_dy\"].isin([6, 15, 16, 17, 18, 19 ,20])]  \n",
    "dycount_df_filtered"
   ]
  },
  {
   "cell_type": "code",
   "execution_count": 9,
   "metadata": {
    "ExecuteTime": {
     "end_time": "2024-10-25T03:56:31.672615Z",
     "start_time": "2024-10-25T03:56:31.656385Z"
    }
   },
   "outputs": [],
   "source": [
    "dycount_df_filtered.to_csv('text_statistic.csv', index=False)"
   ]
  },
  {
   "cell_type": "code",
   "execution_count": 11,
   "metadata": {
    "ExecuteTime": {
     "end_time": "2024-10-25T03:57:04.453122Z",
     "start_time": "2024-10-25T03:57:04.436072Z"
    }
   },
   "outputs": [],
   "source": [
    "# Read the content of old JavaScript files\n",
    "with open('script.js', 'r',encoding='utf-8') as file:  \n",
    "    js_code = file.read()  \n",
    "  \n",
    "# Delete old data  \n",
    "start_delimiter = 'const chart3Data = ['  \n",
    "end_delimiter = '];// Chart 3 Data'\n",
    "start_index = js_code.find(start_delimiter)  \n",
    "end_index = js_code.find(end_delimiter) + len(end_delimiter)  \n",
    "js_code = js_code[:start_index] + js_code[end_index:]\n",
    "# new data\n",
    "js_data = ',\\n'.join(    \n",
    "    f'{{ label: \"{row[\"c_dynasty\"]}\", value: {row[\"count\"]}, id: \"{row[\"c_dynasty\"]}\"}}'    \n",
    "    for index, row in dycount_df_filtered.iterrows()    \n",
    ")  \n",
    "new_data = f'{start_delimiter}\\n{js_data}\\n{end_delimiter}'  \n",
    "  \n",
    "js_code = new_data +'\\n' + js_code  \n",
    "  \n",
    "# Write updated JavaScript file \n",
    "with open('script.js', 'w',encoding='utf-8') as file:  \n",
    "    file.write(js_code)   "
   ]
  },
  {
   "cell_type": "code",
   "execution_count": 13,
   "metadata": {
    "ExecuteTime": {
     "end_time": "2024-10-25T03:57:40.633828Z",
     "start_time": "2024-10-25T03:57:40.624825Z"
    }
   },
   "outputs": [],
   "source": [
    "# update the date\n",
    "import datetime  \n",
    "import re  \n",
    "\n",
    "svg_path = os.path.join(os.getcwd(), 'images', 'svg6.svg')  \n",
    "with open(svg_path, 'r',encoding='utf-8') as file:  \n",
    "    svg_content = file.read()  \n",
    "  \n",
    "# get current date  \n",
    "current_time = datetime.datetime.now().strftime('%Y年%m月%d日') \n",
    "current_time_english = datetime.datetime.now().strftime('%B %d, %Y') \n",
    "  \n",
    "updated_svg_content = re.sub(r'更新日期：\\d+年\\d+月\\d+日', f'更新日期：{current_time}', svg_content)    \n",
    "updated_svg_content = re.sub(r'Updated on: \\w+ \\d+, \\d+', f'Updated on: {current_time_english}', updated_svg_content)\n",
    "with open(svg_path, 'w',encoding='utf-8') as file:  \n",
    "    file.write(updated_svg_content) "
   ]
  },
  {
   "cell_type": "code",
   "execution_count": 14,
   "metadata": {
    "ExecuteTime": {
     "end_time": "2024-10-25T03:57:43.784985Z",
     "start_time": "2024-10-25T03:57:43.766904Z"
    }
   },
   "outputs": [],
   "source": [
    "# close the db\n",
    "CONN.close()"
   ]
  }
 ],
 "metadata": {
  "kernelspec": {
   "display_name": "base",
   "language": "python",
   "name": "python3"
  },
  "language_info": {
   "codemirror_mode": {
    "name": "ipython",
    "version": 3
   },
   "file_extension": ".py",
   "mimetype": "text/x-python",
   "name": "python",
   "nbconvert_exporter": "python",
   "pygments_lexer": "ipython3",
   "version": "3.9.12"
  }
 },
 "nbformat": 4,
 "nbformat_minor": 2
}
