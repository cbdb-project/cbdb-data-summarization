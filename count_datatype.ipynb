{
 "cells": [
  {
   "cell_type": "code",
   "execution_count": 1,
   "metadata": {},
   "outputs": [
    {
     "name": "stderr",
     "output_type": "stream",
     "text": [
      "fatal: destination path 'cbdb_sqlite' already exists and is not an empty directory.\n"
     ]
    }
   ],
   "source": [
    "# Download CBDB sqlite\n",
    "!git clone https://github.com/cbdb-project/cbdb_sqlite.git"
   ]
  },
  {
   "cell_type": "code",
   "execution_count": 2,
   "metadata": {},
   "outputs": [
    {
     "name": "stdout",
     "output_type": "stream",
     "text": [
      "latest.db\n"
     ]
    }
   ],
   "source": [
    "# import glob\n",
    "import os\n",
    "latest_file = \"./cbdb_sqlite/latest.7z\"\n",
    "latest_db = latest_file.split(\"/\")[2].split(\".\")[0] + \".db\"\n",
    "print(latest_db)\n",
    "if os.path.isfile(latest_db):\n",
    "    os.remove(latest_db)"
   ]
  },
  {
   "cell_type": "code",
   "execution_count": 3,
   "metadata": {},
   "outputs": [
    {
     "name": "stdout",
     "output_type": "stream",
     "text": [
      "Looking in indexes: https://pypi.tuna.tsinghua.edu.cn/simple\n",
      "Requirement already satisfied: pyunpack in d:\\anaconda\\lib\\site-packages (0.3)\n",
      "Requirement already satisfied: entrypoint2 in d:\\anaconda\\lib\\site-packages (from pyunpack) (1.1)\n",
      "Requirement already satisfied: easyprocess in d:\\anaconda\\lib\\site-packages (from pyunpack) (1.1)\n",
      "Looking in indexes: https://pypi.tuna.tsinghua.edu.cn/simple\n",
      "Requirement already satisfied: patool in d:\\anaconda\\lib\\site-packages (1.12)\n"
     ]
    }
   ],
   "source": [
    "# Explode latest database file\n",
    "!pip install pyunpack\n",
    "!pip install patool\n",
    "from pyunpack import Archive\n",
    "Archive(latest_file).extractall(\".\")"
   ]
  },
  {
   "cell_type": "code",
   "execution_count": 4,
   "metadata": {},
   "outputs": [],
   "source": [
    "# Create connection to database\n",
    "import sqlite3\n",
    "import pandas as pd\n",
    "import os\n",
    "global CONN\n",
    "latest_file = \"./cbdb_sqlite/latest.7z\"\n",
    "database_file = os.path.basename(latest_file).split(\".\")[0]+\".db\"\n",
    "CONN = sqlite3.connect(database_file)"
   ]
  },
  {
   "cell_type": "code",
   "execution_count": 5,
   "metadata": {},
   "outputs": [
    {
     "data": {
      "text/plain": [
       "\"SELECT 'BIOG_MAIN' AS TableName, COUNT(*) AS RowCount FROM BIOG_MAIN UNION ALL SELECT 'ASSOC_DATA' AS TableName, COUNT(*) AS RowCount FROM ASSOC_DATA UNION ALL SELECT 'BIOG_ADDR_DATA' AS TableName, COUNT(*) AS RowCount FROM BIOG_ADDR_DATA UNION ALL SELECT 'ALTNAME_DATA' AS TableName, COUNT(*) AS RowCount FROM ALTNAME_DATA UNION ALL SELECT 'KIN_DATA' AS TableName, COUNT(*) AS RowCount FROM KIN_DATA UNION ALL SELECT 'ENTRY_DATA' AS TableName, COUNT(*) AS RowCount FROM ENTRY_DATA UNION ALL SELECT 'POSTED_TO_OFFICE_DATA' AS TableName, COUNT(*) AS RowCount FROM POSTED_TO_OFFICE_DATA UNION ALL SELECT 'STATUS_DATA' AS TableName, COUNT(*) AS RowCount FROM STATUS_DATA UNION ALL SELECT 'TEXT_CODES' AS TableName, COUNT(*) AS RowCount FROM TEXT_CODES\""
      ]
     },
     "execution_count": 5,
     "metadata": {},
     "output_type": "execute_result"
    }
   ],
   "source": [
    "tables = ['BIOG_MAIN', 'ASSOC_DATA', 'BIOG_ADDR_DATA', 'ALTNAME_DATA', 'KIN_DATA', 'ENTRY_DATA', 'POSTED_TO_OFFICE_DATA', 'STATUS_DATA', 'TEXT_CODES']  \n",
    "sql_str = ''    \n",
    "for table in tables:  \n",
    "    sql_str += f\"SELECT '{table}' AS TableName, COUNT(*) AS RowCount FROM {table} UNION ALL \"    \n",
    "# 去除最后一个 UNION ALL  \n",
    "sql_str = sql_str[:-11]\n",
    "sql_str "
   ]
  },
  {
   "cell_type": "code",
   "execution_count": 6,
   "metadata": {},
   "outputs": [
    {
     "data": {
      "text/html": [
       "<div>\n",
       "<style scoped>\n",
       "    .dataframe tbody tr th:only-of-type {\n",
       "        vertical-align: middle;\n",
       "    }\n",
       "\n",
       "    .dataframe tbody tr th {\n",
       "        vertical-align: top;\n",
       "    }\n",
       "\n",
       "    .dataframe thead th {\n",
       "        text-align: right;\n",
       "    }\n",
       "</style>\n",
       "<table border=\"1\" class=\"dataframe\">\n",
       "  <thead>\n",
       "    <tr style=\"text-align: right;\">\n",
       "      <th></th>\n",
       "      <th>TableName</th>\n",
       "      <th>RowCount</th>\n",
       "    </tr>\n",
       "  </thead>\n",
       "  <tbody>\n",
       "    <tr>\n",
       "      <th>0</th>\n",
       "      <td>BIOG_MAIN</td>\n",
       "      <td>529560</td>\n",
       "    </tr>\n",
       "    <tr>\n",
       "      <th>1</th>\n",
       "      <td>ASSOC_DATA</td>\n",
       "      <td>185030</td>\n",
       "    </tr>\n",
       "    <tr>\n",
       "      <th>2</th>\n",
       "      <td>BIOG_ADDR_DATA</td>\n",
       "      <td>322661</td>\n",
       "    </tr>\n",
       "    <tr>\n",
       "      <th>3</th>\n",
       "      <td>ALTNAME_DATA</td>\n",
       "      <td>173619</td>\n",
       "    </tr>\n",
       "    <tr>\n",
       "      <th>4</th>\n",
       "      <td>KIN_DATA</td>\n",
       "      <td>532065</td>\n",
       "    </tr>\n",
       "    <tr>\n",
       "      <th>5</th>\n",
       "      <td>ENTRY_DATA</td>\n",
       "      <td>161261</td>\n",
       "    </tr>\n",
       "    <tr>\n",
       "      <th>6</th>\n",
       "      <td>POSTED_TO_OFFICE_DATA</td>\n",
       "      <td>312636</td>\n",
       "    </tr>\n",
       "    <tr>\n",
       "      <th>7</th>\n",
       "      <td>STATUS_DATA</td>\n",
       "      <td>58372</td>\n",
       "    </tr>\n",
       "    <tr>\n",
       "      <th>8</th>\n",
       "      <td>TEXT_CODES</td>\n",
       "      <td>54219</td>\n",
       "    </tr>\n",
       "  </tbody>\n",
       "</table>\n",
       "</div>"
      ],
      "text/plain": [
       "               TableName  RowCount\n",
       "0              BIOG_MAIN    529560\n",
       "1             ASSOC_DATA    185030\n",
       "2         BIOG_ADDR_DATA    322661\n",
       "3           ALTNAME_DATA    173619\n",
       "4               KIN_DATA    532065\n",
       "5             ENTRY_DATA    161261\n",
       "6  POSTED_TO_OFFICE_DATA    312636\n",
       "7            STATUS_DATA     58372\n",
       "8             TEXT_CODES     54219"
      ]
     },
     "execution_count": 6,
     "metadata": {},
     "output_type": "execute_result"
    }
   ],
   "source": [
    "\n",
    "tablecount_df = pd.read_sql_query(sql_str, CONN).drop_duplicates().dropna()\n",
    "tablecount_df"
   ]
  },
  {
   "cell_type": "code",
   "execution_count": 7,
   "metadata": {},
   "outputs": [
    {
     "data": {
      "text/html": [
       "<div>\n",
       "<style scoped>\n",
       "    .dataframe tbody tr th:only-of-type {\n",
       "        vertical-align: middle;\n",
       "    }\n",
       "\n",
       "    .dataframe tbody tr th {\n",
       "        vertical-align: top;\n",
       "    }\n",
       "\n",
       "    .dataframe thead th {\n",
       "        text-align: right;\n",
       "    }\n",
       "</style>\n",
       "<table border=\"1\" class=\"dataframe\">\n",
       "  <thead>\n",
       "    <tr style=\"text-align: right;\">\n",
       "      <th></th>\n",
       "      <th>DataTypes</th>\n",
       "      <th>RowCount</th>\n",
       "    </tr>\n",
       "  </thead>\n",
       "  <tbody>\n",
       "    <tr>\n",
       "      <th>0</th>\n",
       "      <td>Number of Persons</td>\n",
       "      <td>529560</td>\n",
       "    </tr>\n",
       "    <tr>\n",
       "      <th>1</th>\n",
       "      <td>Social Associations</td>\n",
       "      <td>185030</td>\n",
       "    </tr>\n",
       "    <tr>\n",
       "      <th>2</th>\n",
       "      <td>Biographical Addresses</td>\n",
       "      <td>322661</td>\n",
       "    </tr>\n",
       "    <tr>\n",
       "      <th>3</th>\n",
       "      <td>Alternate Names</td>\n",
       "      <td>173619</td>\n",
       "    </tr>\n",
       "    <tr>\n",
       "      <th>4</th>\n",
       "      <td>Kin Relationships</td>\n",
       "      <td>532065</td>\n",
       "    </tr>\n",
       "    <tr>\n",
       "      <th>5</th>\n",
       "      <td>Entry into Office</td>\n",
       "      <td>161261</td>\n",
       "    </tr>\n",
       "    <tr>\n",
       "      <th>6</th>\n",
       "      <td>Office Postings</td>\n",
       "      <td>312636</td>\n",
       "    </tr>\n",
       "    <tr>\n",
       "      <th>7</th>\n",
       "      <td>Social Distinction</td>\n",
       "      <td>58372</td>\n",
       "    </tr>\n",
       "    <tr>\n",
       "      <th>8</th>\n",
       "      <td>Texts</td>\n",
       "      <td>54219</td>\n",
       "    </tr>\n",
       "  </tbody>\n",
       "</table>\n",
       "</div>"
      ],
      "text/plain": [
       "                DataTypes  RowCount\n",
       "0       Number of Persons    529560\n",
       "1     Social Associations    185030\n",
       "2  Biographical Addresses    322661\n",
       "3         Alternate Names    173619\n",
       "4       Kin Relationships    532065\n",
       "5       Entry into Office    161261\n",
       "6         Office Postings    312636\n",
       "7      Social Distinction     58372\n",
       "8                   Texts     54219"
      ]
     },
     "execution_count": 7,
     "metadata": {},
     "output_type": "execute_result"
    }
   ],
   "source": [
    "datatypes = [\"Number of Persons\",\"Social Associations\", \"Biographical Addresses\", \"Alternate Names\", \"Kin Relationships\", \"Entry into Office\", \"Office Postings\", \"Social Distinction\", \"Texts\"]\n",
    "tablecount_df['TableName'] = tablecount_df['TableName'].replace(dict(zip(tablecount_df['TableName'], datatypes)))  \n",
    "tablecount_df = tablecount_df.rename(columns={'TableName': \"DataTypes\"})\n",
    "tablecount_df "
   ]
  },
  {
   "cell_type": "code",
   "execution_count": 8,
   "metadata": {},
   "outputs": [],
   "source": [
    "tablecount_df.to_csv('data_types.csv', index=False)"
   ]
  },
  {
   "cell_type": "code",
   "execution_count": 9,
   "metadata": {},
   "outputs": [],
   "source": [
    "# Read the content of old JavaScript files\n",
    "with open('script.js', 'r') as file:  \n",
    "    js_code = file.read()  \n",
    "  \n",
    "# Delete old data  \n",
    "start_delimiter = 'const chart2Data = ['  \n",
    "end_delimiter = '];// Chart 2 Data'\n",
    "start_index = js_code.find(start_delimiter)  \n",
    "end_index = js_code.find(end_delimiter) + len(end_delimiter)  \n",
    "js_code = js_code[:start_index] + js_code[end_index:]\n",
    "# new data\n",
    "js_data = ',\\n'.join(  \n",
    "    f'{{ label: \"{dyname}\", value: {count} }}'  \n",
    "    for dyname,count in zip(tablecount_df[\"DataTypes\"],tablecount_df[\"RowCount\"])  \n",
    ")\n",
    "new_data = f'{start_delimiter}\\n{js_data}\\n{end_delimiter}'  \n",
    "  \n",
    "js_code = new_data + \"\\n\" +js_code  \n",
    "  \n",
    "# Write updated JavaScript file \n",
    "with open('script.js', 'w') as file:  \n",
    "    file.write(js_code)"
   ]
  },
  {
   "cell_type": "code",
   "execution_count": 10,
   "metadata": {},
   "outputs": [],
   "source": [
    "# update the date\n",
    "import datetime  \n",
    "import re  \n",
    "  \n",
    "with open('images\\svg4.svg', 'r') as file:  \n",
    "    svg_content = file.read()  \n",
    "  \n",
    "# get current date  \n",
    "current_time = datetime.datetime.now().strftime('%Y年%m月%d日') \n",
    "current_time_english = datetime.datetime.now().strftime('%B %d, %Y') \n",
    "  \n",
    "updated_svg_content = re.sub(r'统计日期：\\d+年\\d+月\\d+日', f'统计日期：{current_time}', svg_content)    \n",
    "updated_svg_content = re.sub(r'Statistical Time: \\w+ \\d+, \\d+', f'Statistical Time: {current_time_english}', updated_svg_content)\n",
    "with open('images\\svg4.svg', 'w') as file:  \n",
    "    file.write(updated_svg_content) "
   ]
  },
  {
   "cell_type": "code",
   "execution_count": 11,
   "metadata": {},
   "outputs": [],
   "source": [
    "# close the db\n",
    "CONN.close()"
   ]
  }
 ],
 "metadata": {
  "kernelspec": {
   "display_name": "base",
   "language": "python",
   "name": "python3"
  },
  "language_info": {
   "codemirror_mode": {
    "name": "ipython",
    "version": 3
   },
   "file_extension": ".py",
   "mimetype": "text/x-python",
   "name": "python",
   "nbconvert_exporter": "python",
   "pygments_lexer": "ipython3",
   "version": "3.9.12"
  },
  "orig_nbformat": 4
 },
 "nbformat": 4,
 "nbformat_minor": 2
}
