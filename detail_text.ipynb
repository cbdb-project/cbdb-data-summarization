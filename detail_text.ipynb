{
 "cells": [
  {
   "cell_type": "code",
<<<<<<< HEAD
   "execution_count": 5,
=======
   "execution_count": 1,
>>>>>>> extend
   "id": "initial_id",
   "metadata": {
    "collapsed": true,
    "ExecuteTime": {
<<<<<<< HEAD
     "end_time": "2025-06-11T08:04:25.477433Z",
     "start_time": "2025-06-11T08:03:39.207315Z"
=======
     "end_time": "2025-06-11T07:47:51.735340Z",
     "start_time": "2025-06-11T07:46:50.450316Z"
>>>>>>> extend
    }
   },
   "outputs": [],
   "source": [
    "# import patool\n",
    "# Download CBDB sqlite\n",
    "# !git clone https://github.com/cbdb-project/cbdb_sqlite.git\n",
    "import requests\n",
    "import os\n",
    "import warnings\n",
    "import urllib3\n",
    "\n",
    "# 禁用所有 InsecureRequestWarning 警告\n",
    "warnings.simplefilter('ignore', urllib3.exceptions.InsecureRequestWarning)\n",
    "\n",
    "# url = \"https://hf-mirror.com/datasets/cbdb/cbdb-sqlite/resolve/main/latest.7z?download=true\"\n",
    "url = \"https://huggingface.co/datasets/cbdb/cbdb-sqlite/resolve/main/latest.7z?download=true\"\n",
    "r = requests.get(url, verify=False)\n",
    "os.makedirs(\"./cbdb_sqlite\", exist_ok=True)\n",
    "with open(\"./cbdb_sqlite/latest.7z\", \"wb\") as f:\n",
    "    f.write(r.content)"
   ]
  },
  {
   "cell_type": "code",
   "outputs": [
    {
     "name": "stdout",
     "output_type": "stream",
     "text": [
      "./cbdb_sqlite/latest.7z\n",
      "latest.db\n"
     ]
    }
   ],
   "source": [
    "# import glob\n",
    "import os\n",
    "latest_file = \"./cbdb_sqlite/latest.7z\"\n",
    "print(latest_file)\n",
    "latest_db = latest_file.split(\"/\")[-1].split(\".\")[0] + \".db\"\n",
    "print(latest_db)\n",
    "if os.path.isfile(latest_db):\n",
    "    os.remove(latest_db)"
   ],
   "metadata": {
    "collapsed": false,
    "ExecuteTime": {
<<<<<<< HEAD
     "end_time": "2025-06-11T08:04:25.492726Z",
     "start_time": "2025-06-11T08:04:25.478419Z"
    }
   },
   "id": "13971183b2dd3574",
   "execution_count": 6
=======
     "end_time": "2025-06-11T07:47:51.765339Z",
     "start_time": "2025-06-11T07:47:51.739341Z"
    }
   },
   "id": "13971183b2dd3574",
   "execution_count": 2
>>>>>>> extend
  },
  {
   "cell_type": "code",
   "outputs": [
    {
     "name": "stdout",
     "output_type": "stream",
     "text": [
      "解压完成！\n"
     ]
    }
   ],
   "source": [
    "import py7zr\n",
    "\n",
    "# 指定压缩文件和目标目录\n",
    "archive = './cbdb_sqlite/latest.7z'\n",
    "output_dir = ''\n",
    "\n",
    "# 解压文件\n",
    "with py7zr.SevenZipFile(archive, 'r') as archive:\n",
    "    archive.extractall(output_dir)\n",
    "\n",
    "print(\"解压完成！\")\n",
    "\n"
   ],
   "metadata": {
    "collapsed": false,
    "ExecuteTime": {
<<<<<<< HEAD
     "end_time": "2025-06-11T08:04:45.712007Z",
     "start_time": "2025-06-11T08:04:25.494252Z"
    }
   },
   "id": "6bc504435da99803",
   "execution_count": 7
=======
     "end_time": "2025-06-11T07:48:28.276634Z",
     "start_time": "2025-06-11T07:47:51.769343Z"
    }
   },
   "id": "6bc504435da99803",
   "execution_count": 3
>>>>>>> extend
  },
  {
   "cell_type": "code",
   "outputs": [
    {
     "name": "stdout",
     "output_type": "stream",
     "text": [
      "(6, 'Tang')\n",
      "(15, 'Song')\n",
      "(16, 'Liao')\n",
      "(17, 'Jin')\n",
      "(18, 'Yuan')\n",
      "(19, 'Ming')\n",
      "(20, 'Qing')\n"
     ]
    }
   ],
   "source": [
    "import sqlite3\n",
    "import json\n",
    "\n",
    "# 连接数据库\n",
    "conn = sqlite3.connect('latest.db')\n",
    "cursor = conn.cursor()\n",
    "\n",
    "# 指定所需的朝代及其对应的 c_dy 值\n",
    "dynasties = [\n",
    "    (6, 'Tang'),\n",
    "    (15, 'Song'),\n",
    "    (16, 'Liao'),\n",
    "    (17, 'Jin'),\n",
    "    (18, 'Yuan'),\n",
    "    (19, 'Ming'),\n",
    "    (20, 'Qing')\n",
    "]\n",
    "\n",
    "result = {}\n",
    "\n",
    "for dy in dynasties:\n",
    "    c_dy = dy[0]\n",
    "    dynasty_name = dy[1]\n",
    "    print(dy)\n",
    "\n",
    "    # 查询每本书记录的人数\n",
    "    query = f'''\n",
    "    SELECT TEXT_CODES.c_title_chn, COUNT(DISTINCT BIOG_MAIN.c_personid) as person_count\n",
    "    FROM BIOG_MAIN\n",
    "    JOIN BIOG_SOURCE_DATA ON BIOG_MAIN.c_personid = BIOG_SOURCE_DATA.c_personid\n",
    "    JOIN TEXT_CODES ON BIOG_SOURCE_DATA.c_textid = TEXT_CODES.c_textid\n",
    "    WHERE BIOG_MAIN.c_dy = '{c_dy}'\n",
    "    GROUP BY TEXT_CODES.c_title_chn\n",
    "    ORDER BY person_count DESC\n",
    "    LIMIT 20\n",
    "    '''\n",
    "    cursor.execute(query)\n",
    "    books = cursor.fetchall()\n",
    "\n",
    "    # 将结果存入字典\n",
    "    result[dynasty_name] = [{'title': book[0], 'count': book[1]} for book in books]\n",
    "\n",
    "# 将结果保存为JSON文件\n",
    "with open('chart2Data.json', 'w', encoding='utf-8') as f:\n",
    "    json.dump(result, f, ensure_ascii=False, indent=4)\n",
    "\n",
    "# 关闭数据库连接\n",
    "conn.close()\n"
   ],
   "metadata": {
    "collapsed": false,
    "ExecuteTime": {
<<<<<<< HEAD
     "end_time": "2025-06-11T08:04:48.109240Z",
     "start_time": "2025-06-11T08:04:45.714005Z"
    }
   },
   "id": "aab09a8e25bd66c1",
   "execution_count": 8
=======
     "end_time": "2025-06-11T07:48:34.643694Z",
     "start_time": "2025-06-11T07:48:28.281634Z"
    }
   },
   "id": "aab09a8e25bd66c1",
   "execution_count": 4
>>>>>>> extend
  }
 ],
 "metadata": {
  "kernelspec": {
   "display_name": "Python 3",
   "language": "python",
   "name": "python3"
  },
  "language_info": {
   "codemirror_mode": {
    "name": "ipython",
    "version": 2
   },
   "file_extension": ".py",
   "mimetype": "text/x-python",
   "name": "python",
   "nbconvert_exporter": "python",
   "pygments_lexer": "ipython2",
   "version": "2.7.6"
  }
 },
 "nbformat": 4,
 "nbformat_minor": 5
}
