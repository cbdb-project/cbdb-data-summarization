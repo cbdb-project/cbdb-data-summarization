{
 "cells": [
  {
   "cell_type": "code",
   "execution_count": 5,
   "id": "initial_id",
   "metadata": {
    "collapsed": true,
    "ExecuteTime": {
     "end_time": "2024-11-10T11:18:50.846551Z",
     "start_time": "2024-11-10T11:17:48.467470Z"
    }
   },
   "outputs": [],
   "source": [
    "# import patool\n",
    "# Download CBDB sqlite\n",
    "# !git clone https://github.com/cbdb-project/cbdb_sqlite.git\n",
    "import requests\n",
    "import os\n",
    "import warnings\n",
    "import urllib3\n",
    "\n",
    "# 禁用所有 InsecureRequestWarning 警告\n",
    "warnings.simplefilter('ignore', urllib3.exceptions.InsecureRequestWarning)\n",
    "\n",
    "# url = \"https://hf-mirror.com/datasets/cbdb/cbdb-sqlite/resolve/main/latest.7z?download=true\"\n",
    "url = \"https://huggingface.co/datasets/cbdb/cbdb-sqlite/resolve/main/latest.7z?download=true\"\n",
    "r = requests.get(url, verify=False)\n",
    "os.makedirs(\"./cbdb_sqlite\", exist_ok=True)\n",
    "with open(\"./cbdb_sqlite/latest.7z\", \"wb\") as f:\n",
    "    f.write(r.content)"
   ]
  },
  {
   "cell_type": "code",
   "outputs": [
    {
     "name": "stdout",
     "output_type": "stream",
     "text": [
      "./cbdb_sqlite/latest.7z\n",
      "latest.db\n"
     ]
    }
   ],
   "source": [
    "# import glob\n",
    "import os\n",
    "latest_file = \"./cbdb_sqlite/latest.7z\"\n",
    "print(latest_file)\n",
    "latest_db = latest_file.split(\"/\")[-1].split(\".\")[0] + \".db\"\n",
    "print(latest_db)\n",
    "if os.path.isfile(latest_db):\n",
    "    os.remove(latest_db)"
   ],
   "metadata": {
    "collapsed": false,
    "ExecuteTime": {
     "end_time": "2024-11-10T11:18:50.861541Z",
     "start_time": "2024-11-10T11:18:50.847540Z"
    }
   },
   "id": "b874182abc93a40",
   "execution_count": 6
  },
  {
   "cell_type": "code",
   "outputs": [
    {
     "name": "stdout",
     "output_type": "stream",
     "text": [
      "解压完成！\n"
     ]
    }
   ],
   "source": [
    "import py7zr\n",
    "\n",
    "# 指定压缩文件和目标目录\n",
    "archive = './cbdb_sqlite/latest.7z'\n",
    "output_dir = ''\n",
    "\n",
    "# 解压文件\n",
    "with py7zr.SevenZipFile(archive, 'r') as archive:\n",
    "    archive.extractall(output_dir)\n",
    "\n",
    "print(\"解压完成！\")\n",
    "\n"
   ],
   "metadata": {
    "collapsed": false,
    "ExecuteTime": {
     "end_time": "2024-11-10T11:19:12.779919Z",
     "start_time": "2024-11-10T11:18:50.863541Z"
    }
   },
   "id": "a348808617ba2406",
   "execution_count": 7
  },
  {
   "cell_type": "code",
   "outputs": [
    {
     "name": "stdout",
     "output_type": "stream",
     "text": [
      "script.js 和 sex_count_date.svg 文件已更新完成！\n"
     ]
    }
   ],
   "source": [
    "import sqlite3\n",
    "import pandas as pd\n",
    "import os\n",
    "import datetime\n",
    "import re\n",
    "\n",
    "# 连接数据库\n",
    "database_file = \"latest.db\"  # 请确保数据库路径正确\n",
    "conn = sqlite3.connect(database_file)\n",
    "\n",
    "# 五代的ID集合\n",
    "five_dynasties_ids = [7, 34, 47, 48, 52, 49, 36, 75, 9, 8, 11, 38, 12, 13, 55, 10, 66]\n",
    "\n",
    "# 查询各个朝代的男女人数，并处理五代的归类\n",
    "query = f\"\"\"\n",
    "SELECT \n",
    "    CASE \n",
    "        WHEN bm.c_dy IN ({','.join(map(str, five_dynasties_ids))}) \n",
    "             OR d.c_dynasty = 'Five Dynasties' THEN '5 Dynasties'\n",
    "        ELSE d.c_dynasty \n",
    "    END AS dynasty_name,\n",
    "    bm.c_female AS gender,\n",
    "    COUNT(*) AS count\n",
    "FROM \n",
    "    BIOG_MAIN bm\n",
    "JOIN \n",
    "    DYNASTIES d ON bm.c_dy = d.c_dy\n",
    "WHERE \n",
    "    d.c_dynasty IN ('Tang', 'Song', 'Liao', 'Jin', 'Yuan', 'Ming', 'Qing', 'Republic of China') \n",
    "    OR bm.c_dy IN ({','.join(map(str, five_dynasties_ids))})\n",
    "GROUP BY \n",
    "    dynasty_name, bm.c_female\n",
    "\"\"\"\n",
    "\n",
    "# 加载查询结果\n",
    "df = pd.read_sql(query, conn)\n",
    "\n",
    "# 朝代英文名称映射为拼音\n",
    "dynasty_mapping = {\n",
    "    'Tang': 'Tang',\n",
    "    'Song': 'Song',\n",
    "    'Liao': 'Liao',\n",
    "    'Jin': 'Jin',\n",
    "    'Yuan': 'Yuan',\n",
    "    'Ming': 'Ming',\n",
    "    'Qing': 'Qing',\n",
    "    '5 Dynasties': '5 Dynasties',\n",
    "    'Republic of China': 'Minguo'\n",
    "}\n",
    "df['dynasty_name'] = df['dynasty_name'].map(dynasty_mapping)\n",
    "df['gender'] = df['gender'].map({0: '男', 1: '女'})\n",
    "\n",
    "# 指定朝代的顺序（按拼音顺序）\n",
    "dynasty_order = ['Tang', '5 Dynasties', 'Song', 'Liao', 'Jin', 'Yuan', 'Ming', 'Qing', 'Minguo']\n",
    "\n",
    "# 将数据按顺序排序\n",
    "df['dynasty_name'] = pd.Categorical(df['dynasty_name'], categories=dynasty_order, ordered=True)\n",
    "df = df.sort_values('dynasty_name')\n",
    "\n",
    "# 构建 Chart 4 Data 的新数据格式\n",
    "chart4_data = ',\\n'.join(\n",
    "    f'{{ label: \"{row[\"dynasty_name\"]}\", gender: \"{row[\"gender\"]}\", value: {int(row[\"count\"])} }}'\n",
    "    for _, row in df.iterrows()\n",
    ")\n",
    "\n",
    "# 读取原始 script2.js 文件内容\n",
    "with open('script.js', 'r', encoding='utf-8') as file:\n",
    "    js_code = file.read()\n",
    "\n",
    "# 定位并删除旧的 Chart 4 Data 部分\n",
    "start_delimiter = 'const chart4Data = ['\n",
    "end_delimiter = '];//Chart 4 Data'\n",
    "start_index = js_code.find(start_delimiter)\n",
    "end_index = js_code.find(end_delimiter) + len(end_delimiter)\n",
    "js_code = js_code[:start_index] + js_code[end_index:]\n",
    "\n",
    "# 插入新的 Chart 4 Data 数据\n",
    "new_data = f'{start_delimiter}\\n{chart4_data}\\n{end_delimiter}'\n",
    "updated_js_code = new_data + '\\n' + js_code\n",
    "\n",
    "# 将更新后的内容写回 script2.js 文件\n",
    "with open('script.js', 'w', encoding='utf-8') as file:\n",
    "    file.write(updated_js_code)\n",
    "\n",
    "# 更新文件的最后修改日期\n",
    "svg_path = os.path.join(os.getcwd(), 'images', 'sex_count_date.svg')\n",
    "with open(svg_path, 'r', encoding='utf-8') as file:\n",
    "    svg_content = file.read()\n",
    "\n",
    "# 获取当前日期\n",
    "current_time = datetime.datetime.now().strftime('%Y年%m月%d日')\n",
    "current_time_english = datetime.datetime.now().strftime('%B %d, %Y')\n",
    "\n",
    "# 更新 SVG 文件中的日期\n",
    "updated_svg_content = re.sub(r'更新日期：\\d+年\\d+月\\d+日', f'更新日期：{current_time}', svg_content)\n",
    "updated_svg_content = re.sub(r'Updated on: \\w+ \\d+, \\d+', f'Updated on: {current_time_english}', updated_svg_content)\n",
    "\n",
    "with open(svg_path, 'w', encoding='utf-8') as file:\n",
    "    file.write(updated_svg_content)\n",
    "\n",
    "# 关闭数据库连接\n",
    "conn.close()\n",
    "print(\"script.js 和 sex_count_date.svg 文件已更新完成！\")\n"
   ],
   "metadata": {
    "collapsed": false,
    "ExecuteTime": {
     "end_time": "2024-11-10T11:19:57.125509Z",
     "start_time": "2024-11-10T11:19:56.325576Z"
    }
   },
   "id": "2e5d90d5b56fa467",
   "execution_count": 9
  }
 ],
 "metadata": {
  "kernelspec": {
   "display_name": "Python 3",
   "language": "python",
   "name": "python3"
  },
  "language_info": {
   "codemirror_mode": {
    "name": "ipython",
    "version": 2
   },
   "file_extension": ".py",
   "mimetype": "text/x-python",
   "name": "python",
   "nbconvert_exporter": "python",
   "pygments_lexer": "ipython2",
   "version": "2.7.6"
  }
 },
 "nbformat": 4,
 "nbformat_minor": 5
}
