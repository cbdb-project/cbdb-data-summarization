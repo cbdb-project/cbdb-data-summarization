{
 "cells": [
  {
   "cell_type": "code",
   "execution_count": 1,
   "metadata": {},
   "outputs": [
    {
     "name": "stderr",
     "output_type": "stream",
     "text": [
      "d:\\anaconda\\lib\\site-packages\\urllib3\\connectionpool.py:1045: InsecureRequestWarning: Unverified HTTPS request is being made to host 'hf-mirror.com'. Adding certificate verification is strongly advised. See: https://urllib3.readthedocs.io/en/1.26.x/advanced-usage.html#ssl-warnings\n",
      "  warnings.warn(\n",
      "d:\\anaconda\\lib\\site-packages\\urllib3\\connectionpool.py:1045: InsecureRequestWarning: Unverified HTTPS request is being made to host 'cdn-lfs-us-1.hf-mirror.com'. Adding certificate verification is strongly advised. See: https://urllib3.readthedocs.io/en/1.26.x/advanced-usage.html#ssl-warnings\n",
      "  warnings.warn(\n"
     ]
    }
   ],
   "source": [
    "# Download CBDB sqlite\n",
    "# !git clone https://github.com/cbdb-project/cbdb_sqlite.git\n",
    "import requests\n",
    "import os\n",
    "# url = \"https://hf-mirror.com/datasets/cbdb/cbdb-sqlite/resolve/main/latest.7z?download=true\"\n",
    "url = \"https://huggingface.co/datasets/cbdb/cbdb-sqlite/resolve/main/latest.7z?download=true\"\n",
    "r = requests.get(url, verify=False)\n",
    "os.makedirs(\"./cbdb_sqlite\", exist_ok=True)\n",
    "with open(\"./cbdb_sqlite/latest.7z\", \"wb\") as f:\n",
    "    f.write(r.content)"
   ]
  },
  {
   "cell_type": "code",
   "execution_count": 2,
   "metadata": {},
   "outputs": [
    {
     "name": "stdout",
     "output_type": "stream",
     "text": [
      "latest.db\n"
     ]
    }
   ],
   "source": [
    "# import glob\n",
    "import os\n",
    "\n",
    "latest_file = \"./cbdb_sqlite/latest.7z\"\n",
    "latest_db = latest_file.split(\"/\")[2].split(\".\")[0] + \".db\"\n",
    "print(latest_db)\n",
    "if os.path.isfile(latest_db):\n",
    "    os.remove(latest_db)"
   ]
  },
  {
   "cell_type": "code",
   "execution_count": 3,
   "metadata": {},
   "outputs": [
    {
     "name": "stdout",
     "output_type": "stream",
     "text": [
      "Looking in indexes: https://pypi.tuna.tsinghua.edu.cn/simple\n",
      "Requirement already satisfied: pyunpack in d:\\anaconda\\lib\\site-packages (0.3)\n",
      "Requirement already satisfied: entrypoint2 in d:\\anaconda\\lib\\site-packages (from pyunpack) (1.1)\n",
      "Requirement already satisfied: easyprocess in d:\\anaconda\\lib\\site-packages (from pyunpack) (1.1)\n",
      "Looking in indexes: https://pypi.tuna.tsinghua.edu.cn/simple\n",
      "Requirement already satisfied: patool in d:\\anaconda\\lib\\site-packages (1.12)\n"
     ]
    }
   ],
   "source": [
    "# Explode latest database file\n",
    "!pip install pyunpack\n",
    "!pip install patool\n",
    "from pyunpack import Archive\n",
    "Archive(latest_file).extractall(\".\")"
   ]
  },
  {
   "cell_type": "code",
   "execution_count": 4,
   "metadata": {},
   "outputs": [],
   "source": [
    "# Create connection to database\n",
    "import sqlite3\n",
    "import pandas as pd\n",
    "global CONN\n",
    "database_file = os.path.basename(latest_file).split(\".\")[0]+\".db\"\n",
    "CONN = sqlite3.connect(database_file)"
   ]
  },
  {
   "cell_type": "code",
   "execution_count": 5,
   "metadata": {},
   "outputs": [
    {
     "data": {
      "text/html": [
       "<div>\n",
       "<style scoped>\n",
       "    .dataframe tbody tr th:only-of-type {\n",
       "        vertical-align: middle;\n",
       "    }\n",
       "\n",
       "    .dataframe tbody tr th {\n",
       "        vertical-align: top;\n",
       "    }\n",
       "\n",
       "    .dataframe thead th {\n",
       "        text-align: right;\n",
       "    }\n",
       "</style>\n",
       "<table border=\"1\" class=\"dataframe\">\n",
       "  <thead>\n",
       "    <tr style=\"text-align: right;\">\n",
       "      <th></th>\n",
       "      <th>c_dy</th>\n",
       "      <th>count</th>\n",
       "    </tr>\n",
       "  </thead>\n",
       "  <tbody>\n",
       "    <tr>\n",
       "      <th>1</th>\n",
       "      <td>0.0</td>\n",
       "      <td>17543</td>\n",
       "    </tr>\n",
       "    <tr>\n",
       "      <th>2</th>\n",
       "      <td>1.0</td>\n",
       "      <td>111</td>\n",
       "    </tr>\n",
       "    <tr>\n",
       "      <th>3</th>\n",
       "      <td>2.0</td>\n",
       "      <td>139</td>\n",
       "    </tr>\n",
       "    <tr>\n",
       "      <th>4</th>\n",
       "      <td>3.0</td>\n",
       "      <td>25</td>\n",
       "    </tr>\n",
       "    <tr>\n",
       "      <th>5</th>\n",
       "      <td>4.0</td>\n",
       "      <td>31</td>\n",
       "    </tr>\n",
       "    <tr>\n",
       "      <th>...</th>\n",
       "      <td>...</td>\n",
       "      <td>...</td>\n",
       "    </tr>\n",
       "    <tr>\n",
       "      <th>71</th>\n",
       "      <td>76.0</td>\n",
       "      <td>1</td>\n",
       "    </tr>\n",
       "    <tr>\n",
       "      <th>72</th>\n",
       "      <td>77.0</td>\n",
       "      <td>461</td>\n",
       "    </tr>\n",
       "    <tr>\n",
       "      <th>73</th>\n",
       "      <td>78.0</td>\n",
       "      <td>14</td>\n",
       "    </tr>\n",
       "    <tr>\n",
       "      <th>74</th>\n",
       "      <td>81.0</td>\n",
       "      <td>4</td>\n",
       "    </tr>\n",
       "    <tr>\n",
       "      <th>75</th>\n",
       "      <td>84.0</td>\n",
       "      <td>2649</td>\n",
       "    </tr>\n",
       "  </tbody>\n",
       "</table>\n",
       "<p>75 rows × 2 columns</p>\n",
       "</div>"
      ],
      "text/plain": [
       "    c_dy  count\n",
       "1    0.0  17543\n",
       "2    1.0    111\n",
       "3    2.0    139\n",
       "4    3.0     25\n",
       "5    4.0     31\n",
       "..   ...    ...\n",
       "71  76.0      1\n",
       "72  77.0    461\n",
       "73  78.0     14\n",
       "74  81.0      4\n",
       "75  84.0   2649\n",
       "\n",
       "[75 rows x 2 columns]"
      ]
     },
     "execution_count": 5,
     "metadata": {},
     "output_type": "execute_result"
    }
   ],
   "source": [
    "sql_str=\"SELECT c_dy, COUNT(*) as count FROM BIOG_MAIN GROUP BY c_dy \"\n",
    "dycount_df = pd.read_sql_query(sql_str, CONN).drop_duplicates().dropna()\n",
    "dycount_df"
   ]
  },
  {
   "cell_type": "code",
   "execution_count": 6,
   "metadata": {},
   "outputs": [
    {
     "data": {
      "text/html": [
       "<div>\n",
       "<style scoped>\n",
       "    .dataframe tbody tr th:only-of-type {\n",
       "        vertical-align: middle;\n",
       "    }\n",
       "\n",
       "    .dataframe tbody tr th {\n",
       "        vertical-align: top;\n",
       "    }\n",
       "\n",
       "    .dataframe thead th {\n",
       "        text-align: right;\n",
       "    }\n",
       "</style>\n",
       "<table border=\"1\" class=\"dataframe\">\n",
       "  <thead>\n",
       "    <tr style=\"text-align: right;\">\n",
       "      <th></th>\n",
       "      <th>Dynasty</th>\n",
       "      <th>Count</th>\n",
       "    </tr>\n",
       "  </thead>\n",
       "  <tbody>\n",
       "    <tr>\n",
       "      <th>0</th>\n",
       "      <td>Tang</td>\n",
       "      <td>53895</td>\n",
       "    </tr>\n",
       "    <tr>\n",
       "      <th>1</th>\n",
       "      <td>5 Dynasties</td>\n",
       "      <td>1909</td>\n",
       "    </tr>\n",
       "    <tr>\n",
       "      <th>2</th>\n",
       "      <td>Song</td>\n",
       "      <td>74360</td>\n",
       "    </tr>\n",
       "    <tr>\n",
       "      <th>3</th>\n",
       "      <td>Liao</td>\n",
       "      <td>339</td>\n",
       "    </tr>\n",
       "    <tr>\n",
       "      <th>4</th>\n",
       "      <td>Jin</td>\n",
       "      <td>706</td>\n",
       "    </tr>\n",
       "    <tr>\n",
       "      <th>5</th>\n",
       "      <td>Yuan</td>\n",
       "      <td>24706</td>\n",
       "    </tr>\n",
       "    <tr>\n",
       "      <th>6</th>\n",
       "      <td>Ming</td>\n",
       "      <td>221089</td>\n",
       "    </tr>\n",
       "    <tr>\n",
       "      <th>7</th>\n",
       "      <td>Qing</td>\n",
       "      <td>123244</td>\n",
       "    </tr>\n",
       "    <tr>\n",
       "      <th>8</th>\n",
       "      <td>Minguo</td>\n",
       "      <td>4682</td>\n",
       "    </tr>\n",
       "  </tbody>\n",
       "</table>\n",
       "</div>"
      ],
      "text/plain": [
       "       Dynasty   Count\n",
       "0         Tang   53895\n",
       "1  5 Dynasties    1909\n",
       "2         Song   74360\n",
       "3         Liao     339\n",
       "4          Jin     706\n",
       "5         Yuan   24706\n",
       "6         Ming  221089\n",
       "7         Qing  123244\n",
       "8       Minguo    4682"
      ]
     },
     "execution_count": 6,
     "metadata": {},
     "output_type": "execute_result"
    }
   ],
   "source": [
    "# Obtain statistics from various dynasties\n",
    "Tang = dycount_df[dycount_df[\"c_dy\"]==6][\"count\"].values[0]\n",
    "Five_Dynasties = 0\n",
    "Five_Dynasties_id = [7, 34, 47, 48, 52, 49, 36, 75, 9, 8, 11, 38, 12, 13, 55, 10, 66]\n",
    "for id in Five_Dynasties_id:\n",
    "    Five_Dynasties += dycount_df[dycount_df[\"c_dy\"]==id][\"count\"].values[0]\n",
    "Song = dycount_df[dycount_df[\"c_dy\"]==15][\"count\"].values[0]\n",
    "Liao = dycount_df[dycount_df[\"c_dy\"]==16][\"count\"].values[0]\n",
    "Jin = dycount_df[dycount_df[\"c_dy\"]==17][\"count\"].values[0]\n",
    "Yuan = dycount_df[dycount_df[\"c_dy\"]==18][\"count\"].values[0]\n",
    "Ming = dycount_df[dycount_df[\"c_dy\"]==19][\"count\"].values[0]\n",
    "Qing = dycount_df[dycount_df[\"c_dy\"]==20][\"count\"].values[0]\n",
    "Minguo = dycount_df[dycount_df[\"c_dy\"]==21][\"count\"].values[0]\n",
    "\n",
    "data = {  \n",
    "    'Dynasty': ['Tang', '5 Dynasties', 'Song', 'Liao', 'Jin', 'Yuan', 'Ming', 'Qing', 'Minguo'],  \n",
    "    'Count': [Tang, Five_Dynasties, Song, Liao, Jin, Yuan, Ming, Qing, Minguo]  \n",
    "}  \n",
    "dyres_df = pd.DataFrame(data) \n",
    "dyres_df"
   ]
  },
  {
   "cell_type": "code",
   "execution_count": 7,
   "metadata": {},
   "outputs": [],
   "source": [
    "dyres_df.to_csv('dynasty_statistic.csv', index=False)"
   ]
  },
  {
   "cell_type": "code",
   "execution_count": 8,
   "metadata": {},
   "outputs": [],
   "source": [
    "# Read the content of old JavaScript files\n",
    "with open('script.js', 'r') as file:  \n",
    "    js_code = file.read()  \n",
    "  \n",
    "# Delete old data  \n",
    "start_delimiter = 'const chart1Data = ['  \n",
    "end_delimiter = '];// Chart 1 Data '\n",
    "start_index = js_code.find(start_delimiter)  \n",
    "end_index = js_code.find(end_delimiter) + len(end_delimiter)  \n",
    "js_code = js_code[:start_index] + js_code[end_index:]\n",
    "# new data\n",
    "js_data = ',\\n'.join(  \n",
    "    f'{{ label: \"{dyname}\", value: {count} }}'  \n",
    "    for dyname,count in zip(data[\"Dynasty\"],data[\"Count\"])  \n",
    ")\n",
    "new_data = f'{start_delimiter}\\n{js_data}\\n{end_delimiter}'  \n",
    "  \n",
    "js_code = new_data +'\\n' + js_code  \n",
    "  \n",
    "# Write updated JavaScript file \n",
    "with open('script.js', 'w') as file:  \n",
    "    file.write(js_code)   "
   ]
  },
  {
   "cell_type": "code",
   "execution_count": 9,
   "metadata": {},
   "outputs": [],
   "source": [
    "# update the date\n",
    "import datetime  \n",
    "import re  \n",
    "\n",
    "svg_path = os.path.join(os.getcwd(), 'images', 'svg2.svg')  \n",
    "with open(svg_path, 'r') as file:  \n",
    "    svg_content = file.read()  \n",
    "  \n",
    "# get current date  \n",
    "current_time = datetime.datetime.now().strftime('%Y年%m月%d日') \n",
    "current_time_english = datetime.datetime.now().strftime('%B %d, %Y') \n",
    "  \n",
    "updated_svg_content = re.sub(r'更新日期：\\d+年\\d+月\\d+日', f'更新日期：{current_time}', svg_content)    \n",
    "updated_svg_content = re.sub(r'Updated on: \\w+ \\d+, \\d+', f'Updated on: {current_time_english}', updated_svg_content)\n",
    "with open(svg_path, 'w') as file:  \n",
    "    file.write(updated_svg_content) "
   ]
  },
  {
   "cell_type": "code",
   "execution_count": 10,
   "metadata": {},
   "outputs": [],
   "source": [
    "# close the db\n",
    "CONN.close()"
   ]
  }
 ],
 "metadata": {
  "kernelspec": {
   "display_name": "base",
   "language": "python",
   "name": "python3"
  },
  "language_info": {
   "codemirror_mode": {
    "name": "ipython",
    "version": 3
   },
   "file_extension": ".py",
   "mimetype": "text/x-python",
   "name": "python",
   "nbconvert_exporter": "python",
   "pygments_lexer": "ipython3",
   "version": "3.9.12"
  },
  "orig_nbformat": 4
 },
 "nbformat": 4,
 "nbformat_minor": 2
}
